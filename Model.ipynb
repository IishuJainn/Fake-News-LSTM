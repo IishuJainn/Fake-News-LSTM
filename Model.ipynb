{
 "cells": [
  {
   "cell_type": "code",
   "execution_count": 1,
   "id": "0717f640",
   "metadata": {
    "_cell_guid": "b1076dfc-b9ad-4769-8c92-a6c4dae69d19",
    "_uuid": "8f2839f25d086af736a60e9eeb907d3b93b6e0e5",
    "execution": {
     "iopub.execute_input": "2022-11-21T07:34:51.077678Z",
     "iopub.status.busy": "2022-11-21T07:34:51.077204Z",
     "iopub.status.idle": "2022-11-21T07:34:51.095491Z",
     "shell.execute_reply": "2022-11-21T07:34:51.094277Z"
    },
    "papermill": {
     "duration": 0.029711,
     "end_time": "2022-11-21T07:34:51.098953",
     "exception": false,
     "start_time": "2022-11-21T07:34:51.069242",
     "status": "completed"
    },
    "tags": []
   },
   "outputs": [
    {
     "name": "stdout",
     "output_type": "stream",
     "text": [
      "/kaggle/input/fake-news/fake_train.csv\n"
     ]
    }
   ],
   "source": [
    "# This Python 3 environment comes with many helpful analytics libraries installed\n",
    "# It is defined by the kaggle/python Docker image: https://github.com/kaggle/docker-python\n",
    "# For example, here's several helpful packages to load\n",
    "\n",
    "import numpy as np # linear algebra\n",
    "import pandas as pd # data processing, CSV file I/O (e.g. pd.read_csv)\n",
    "\n",
    "# Input data files are available in the read-only \"../input/\" directory\n",
    "# For example, running this (by clicking run or pressing Shift+Enter) will list all files under the input directory\n",
    "\n",
    "import os\n",
    "for dirname, _, filenames in os.walk('/kaggle/input'):\n",
    "    for filename in filenames:\n",
    "        print(os.path.join(dirname, filename))\n",
    "\n",
    "# You can write up to 20GB to the current directory (/kaggle/working/) that gets preserved as output when you create a version using \"Save & Run All\" \n",
    "# You can also write temporary files to /kaggle/temp/, but they won't be saved outside of the current session"
   ]
  },
  {
   "cell_type": "code",
   "execution_count": 2,
   "id": "e7e59ad0",
   "metadata": {
    "execution": {
     "iopub.execute_input": "2022-11-21T07:34:51.112475Z",
     "iopub.status.busy": "2022-11-21T07:34:51.112093Z",
     "iopub.status.idle": "2022-11-21T07:34:53.782980Z",
     "shell.execute_reply": "2022-11-21T07:34:53.781769Z"
    },
    "papermill": {
     "duration": 2.680602,
     "end_time": "2022-11-21T07:34:53.785651",
     "exception": false,
     "start_time": "2022-11-21T07:34:51.105049",
     "status": "completed"
    },
    "tags": []
   },
   "outputs": [
    {
     "data": {
      "text/html": [
       "<div>\n",
       "<style scoped>\n",
       "    .dataframe tbody tr th:only-of-type {\n",
       "        vertical-align: middle;\n",
       "    }\n",
       "\n",
       "    .dataframe tbody tr th {\n",
       "        vertical-align: top;\n",
       "    }\n",
       "\n",
       "    .dataframe thead th {\n",
       "        text-align: right;\n",
       "    }\n",
       "</style>\n",
       "<table border=\"1\" class=\"dataframe\">\n",
       "  <thead>\n",
       "    <tr style=\"text-align: right;\">\n",
       "      <th></th>\n",
       "      <th>id</th>\n",
       "      <th>title</th>\n",
       "      <th>author</th>\n",
       "      <th>text</th>\n",
       "      <th>label</th>\n",
       "    </tr>\n",
       "  </thead>\n",
       "  <tbody>\n",
       "    <tr>\n",
       "      <th>0</th>\n",
       "      <td>0</td>\n",
       "      <td>House Dem Aide: We Didn’t Even See Comey’s Let...</td>\n",
       "      <td>Darrell Lucus</td>\n",
       "      <td>House Dem Aide: We Didn’t Even See Comey’s Let...</td>\n",
       "      <td>1</td>\n",
       "    </tr>\n",
       "    <tr>\n",
       "      <th>1</th>\n",
       "      <td>1</td>\n",
       "      <td>FLYNN: Hillary Clinton, Big Woman on Campus - ...</td>\n",
       "      <td>Daniel J. Flynn</td>\n",
       "      <td>Ever get the feeling your life circles the rou...</td>\n",
       "      <td>0</td>\n",
       "    </tr>\n",
       "    <tr>\n",
       "      <th>2</th>\n",
       "      <td>2</td>\n",
       "      <td>Why the Truth Might Get You Fired</td>\n",
       "      <td>Consortiumnews.com</td>\n",
       "      <td>Why the Truth Might Get You Fired October 29, ...</td>\n",
       "      <td>1</td>\n",
       "    </tr>\n",
       "    <tr>\n",
       "      <th>3</th>\n",
       "      <td>3</td>\n",
       "      <td>15 Civilians Killed In Single US Airstrike Hav...</td>\n",
       "      <td>Jessica Purkiss</td>\n",
       "      <td>Videos 15 Civilians Killed In Single US Airstr...</td>\n",
       "      <td>1</td>\n",
       "    </tr>\n",
       "    <tr>\n",
       "      <th>4</th>\n",
       "      <td>4</td>\n",
       "      <td>Iranian woman jailed for fictional unpublished...</td>\n",
       "      <td>Howard Portnoy</td>\n",
       "      <td>Print \\nAn Iranian woman has been sentenced to...</td>\n",
       "      <td>1</td>\n",
       "    </tr>\n",
       "  </tbody>\n",
       "</table>\n",
       "</div>"
      ],
      "text/plain": [
       "   id                                              title              author  \\\n",
       "0   0  House Dem Aide: We Didn’t Even See Comey’s Let...       Darrell Lucus   \n",
       "1   1  FLYNN: Hillary Clinton, Big Woman on Campus - ...     Daniel J. Flynn   \n",
       "2   2                  Why the Truth Might Get You Fired  Consortiumnews.com   \n",
       "3   3  15 Civilians Killed In Single US Airstrike Hav...     Jessica Purkiss   \n",
       "4   4  Iranian woman jailed for fictional unpublished...      Howard Portnoy   \n",
       "\n",
       "                                                text  label  \n",
       "0  House Dem Aide: We Didn’t Even See Comey’s Let...      1  \n",
       "1  Ever get the feeling your life circles the rou...      0  \n",
       "2  Why the Truth Might Get You Fired October 29, ...      1  \n",
       "3  Videos 15 Civilians Killed In Single US Airstr...      1  \n",
       "4  Print \\nAn Iranian woman has been sentenced to...      1  "
      ]
     },
     "execution_count": 2,
     "metadata": {},
     "output_type": "execute_result"
    }
   ],
   "source": [
    "import pandas as pd\n",
    "df=pd.read_csv(\"/kaggle/input/fake-news/fake_train.csv\")\n",
    "df.head()"
   ]
  },
  {
   "cell_type": "code",
   "execution_count": 3,
   "id": "efb6ef6c",
   "metadata": {
    "execution": {
     "iopub.execute_input": "2022-11-21T07:34:53.799280Z",
     "iopub.status.busy": "2022-11-21T07:34:53.798488Z",
     "iopub.status.idle": "2022-11-21T07:34:53.818677Z",
     "shell.execute_reply": "2022-11-21T07:34:53.817248Z"
    },
    "papermill": {
     "duration": 0.030093,
     "end_time": "2022-11-21T07:34:53.821494",
     "exception": false,
     "start_time": "2022-11-21T07:34:53.791401",
     "status": "completed"
    },
    "tags": []
   },
   "outputs": [],
   "source": [
    "df=df.dropna()"
   ]
  },
  {
   "cell_type": "code",
   "execution_count": 4,
   "id": "5ae5fd52",
   "metadata": {
    "execution": {
     "iopub.execute_input": "2022-11-21T07:34:53.834949Z",
     "iopub.status.busy": "2022-11-21T07:34:53.833683Z",
     "iopub.status.idle": "2022-11-21T07:34:53.849312Z",
     "shell.execute_reply": "2022-11-21T07:34:53.847598Z"
    },
    "papermill": {
     "duration": 0.026083,
     "end_time": "2022-11-21T07:34:53.853144",
     "exception": false,
     "start_time": "2022-11-21T07:34:53.827061",
     "status": "completed"
    },
    "tags": []
   },
   "outputs": [],
   "source": [
    "X=df.drop('label',axis=1)\n",
    "y=df['label']"
   ]
  },
  {
   "cell_type": "code",
   "execution_count": 5,
   "id": "c4d47740",
   "metadata": {
    "execution": {
     "iopub.execute_input": "2022-11-21T07:34:53.867675Z",
     "iopub.status.busy": "2022-11-21T07:34:53.866882Z",
     "iopub.status.idle": "2022-11-21T07:34:53.876631Z",
     "shell.execute_reply": "2022-11-21T07:34:53.875639Z"
    },
    "papermill": {
     "duration": 0.019551,
     "end_time": "2022-11-21T07:34:53.879178",
     "exception": false,
     "start_time": "2022-11-21T07:34:53.859627",
     "status": "completed"
    },
    "tags": []
   },
   "outputs": [
    {
     "data": {
      "text/plain": [
       "(18285, 4)"
      ]
     },
     "execution_count": 5,
     "metadata": {},
     "output_type": "execute_result"
    }
   ],
   "source": [
    "X.shape"
   ]
  },
  {
   "cell_type": "code",
   "execution_count": 6,
   "id": "4c69b521",
   "metadata": {
    "execution": {
     "iopub.execute_input": "2022-11-21T07:34:53.893063Z",
     "iopub.status.busy": "2022-11-21T07:34:53.892178Z",
     "iopub.status.idle": "2022-11-21T07:34:59.312930Z",
     "shell.execute_reply": "2022-11-21T07:34:59.311546Z"
    },
    "papermill": {
     "duration": 5.430825,
     "end_time": "2022-11-21T07:34:59.315770",
     "exception": false,
     "start_time": "2022-11-21T07:34:53.884945",
     "status": "completed"
    },
    "tags": []
   },
   "outputs": [
    {
     "data": {
      "text/plain": [
       "'2.6.4'"
      ]
     },
     "execution_count": 6,
     "metadata": {},
     "output_type": "execute_result"
    }
   ],
   "source": [
    "import tensorflow as tf\n",
    "tf.__version__"
   ]
  },
  {
   "cell_type": "code",
   "execution_count": 7,
   "id": "614b161c",
   "metadata": {
    "execution": {
     "iopub.execute_input": "2022-11-21T07:34:59.329745Z",
     "iopub.status.busy": "2022-11-21T07:34:59.328905Z",
     "iopub.status.idle": "2022-11-21T07:35:00.359120Z",
     "shell.execute_reply": "2022-11-21T07:35:00.358126Z"
    },
    "papermill": {
     "duration": 1.040237,
     "end_time": "2022-11-21T07:35:00.361754",
     "exception": false,
     "start_time": "2022-11-21T07:34:59.321517",
     "status": "completed"
    },
    "tags": []
   },
   "outputs": [],
   "source": [
    "from tensorflow.keras.layers import Embedding\n",
    "from tensorflow.keras.preprocessing.sequence import pad_sequences\n",
    "from tensorflow.keras.models import Sequential\n",
    "from tensorflow.keras.preprocessing.text import one_hot\n",
    "from tensorflow.keras.layers import LSTM\n",
    "from tensorflow.keras.layers import Dense"
   ]
  },
  {
   "cell_type": "code",
   "execution_count": 8,
   "id": "60138aa7",
   "metadata": {
    "execution": {
     "iopub.execute_input": "2022-11-21T07:35:00.374744Z",
     "iopub.status.busy": "2022-11-21T07:35:00.374343Z",
     "iopub.status.idle": "2022-11-21T07:35:00.382214Z",
     "shell.execute_reply": "2022-11-21T07:35:00.381338Z"
    },
    "papermill": {
     "duration": 0.017238,
     "end_time": "2022-11-21T07:35:00.384607",
     "exception": false,
     "start_time": "2022-11-21T07:35:00.367369",
     "status": "completed"
    },
    "tags": []
   },
   "outputs": [],
   "source": [
    "messages=df.copy()\n",
    "messages.reset_index(inplace=True)"
   ]
  },
  {
   "cell_type": "code",
   "execution_count": 9,
   "id": "c7a7923f",
   "metadata": {
    "execution": {
     "iopub.execute_input": "2022-11-21T07:35:00.398045Z",
     "iopub.status.busy": "2022-11-21T07:35:00.396940Z",
     "iopub.status.idle": "2022-11-21T07:35:01.796734Z",
     "shell.execute_reply": "2022-11-21T07:35:01.795385Z"
    },
    "papermill": {
     "duration": 1.40942,
     "end_time": "2022-11-21T07:35:01.799687",
     "exception": false,
     "start_time": "2022-11-21T07:35:00.390267",
     "status": "completed"
    },
    "tags": []
   },
   "outputs": [],
   "source": [
    "import nltk\n",
    "import re\n",
    "from nltk.corpus import stopwords\n"
   ]
  },
  {
   "cell_type": "code",
   "execution_count": 10,
   "id": "1010226a",
   "metadata": {
    "execution": {
     "iopub.execute_input": "2022-11-21T07:35:01.812831Z",
     "iopub.status.busy": "2022-11-21T07:35:01.812422Z",
     "iopub.status.idle": "2022-11-21T07:35:40.556273Z",
     "shell.execute_reply": "2022-11-21T07:35:40.555177Z"
    },
    "papermill": {
     "duration": 38.754226,
     "end_time": "2022-11-21T07:35:40.559608",
     "exception": false,
     "start_time": "2022-11-21T07:35:01.805382",
     "status": "completed"
    },
    "tags": []
   },
   "outputs": [
    {
     "name": "stderr",
     "output_type": "stream",
     "text": [
      "[nltk_data] Downloading package stopwords to /usr/share/nltk_data...\n",
      "[nltk_data]   Package stopwords is already up-to-date!\n"
     ]
    }
   ],
   "source": [
    "nltk.download('stopwords')\n",
    "from nltk.stem.porter import PorterStemmer\n",
    "ps = PorterStemmer()\n",
    "corpus = []\n",
    "for i in range(0, len(messages)):\n",
    "    review = re.sub('[^a-zA-Z]', ' ', messages['title'][i])\n",
    "    review = review.lower()\n",
    "    review = review.split()\n",
    "    \n",
    "    review = [ps.stem(word) for word in review if not word in stopwords.words('english')]\n",
    "    review = ' '.join(review)\n",
    "    corpus.append(review)"
   ]
  },
  {
   "cell_type": "code",
   "execution_count": 11,
   "id": "4883438f",
   "metadata": {
    "execution": {
     "iopub.execute_input": "2022-11-21T07:35:40.574439Z",
     "iopub.status.busy": "2022-11-21T07:35:40.574005Z",
     "iopub.status.idle": "2022-11-21T07:35:40.847508Z",
     "shell.execute_reply": "2022-11-21T07:35:40.845589Z"
    },
    "papermill": {
     "duration": 0.282991,
     "end_time": "2022-11-21T07:35:40.849974",
     "exception": false,
     "start_time": "2022-11-21T07:35:40.566983",
     "status": "completed"
    },
    "tags": []
   },
   "outputs": [
    {
     "name": "stdout",
     "output_type": "stream",
     "text": [
      "[[1961, 1790, 862, 3336, 4042, 1245, 4417, 2912, 3204, 2293], [3341, 3729, 353, 2365, 4789, 1064, 2188], [1490, 4139, 2589, 3662], [1366, 1137, 1428, 117, 4979, 2760], [93, 4789, 3164, 535, 1474, 3362, 4789, 4721, 3275, 1910]]\n"
     ]
    }
   ],
   "source": [
    "voc_size=5000\n",
    "one_hot_rep=[one_hot(words,voc_size) for words in corpus]\n",
    "print(one_hot_rep[:5])"
   ]
  },
  {
   "cell_type": "code",
   "execution_count": 12,
   "id": "a30c6518",
   "metadata": {
    "execution": {
     "iopub.execute_input": "2022-11-21T07:35:40.863088Z",
     "iopub.status.busy": "2022-11-21T07:35:40.862645Z",
     "iopub.status.idle": "2022-11-21T07:35:40.921749Z",
     "shell.execute_reply": "2022-11-21T07:35:40.920406Z"
    },
    "papermill": {
     "duration": 0.068635,
     "end_time": "2022-11-21T07:35:40.924271",
     "exception": false,
     "start_time": "2022-11-21T07:35:40.855636",
     "status": "completed"
    },
    "tags": []
   },
   "outputs": [
    {
     "name": "stdout",
     "output_type": "stream",
     "text": [
      "[[   0    0    0 ... 2912 3204 2293]\n",
      " [   0    0    0 ... 4789 1064 2188]\n",
      " [   0    0    0 ... 4139 2589 3662]\n",
      " ...\n",
      " [   0    0    0 ... 4905 2465 1140]\n",
      " [   0    0    0 ... 2708 3329 1213]\n",
      " [   0    0    0 ...  246 1593 3037]]\n"
     ]
    }
   ],
   "source": [
    "sent_len=20\n",
    "embedded_docs=pad_sequences(one_hot_rep,padding='pre',maxlen=sent_len)\n",
    "print(embedded_docs)\n",
    "                    "
   ]
  },
  {
   "cell_type": "code",
   "execution_count": 13,
   "id": "6ecfc0cc",
   "metadata": {
    "execution": {
     "iopub.execute_input": "2022-11-21T07:35:40.938164Z",
     "iopub.status.busy": "2022-11-21T07:35:40.937758Z",
     "iopub.status.idle": "2022-11-21T07:35:41.351223Z",
     "shell.execute_reply": "2022-11-21T07:35:41.350063Z"
    },
    "papermill": {
     "duration": 0.423323,
     "end_time": "2022-11-21T07:35:41.354442",
     "exception": false,
     "start_time": "2022-11-21T07:35:40.931119",
     "status": "completed"
    },
    "tags": []
   },
   "outputs": [
    {
     "name": "stderr",
     "output_type": "stream",
     "text": [
      "2022-11-21 07:35:40.974392: I tensorflow/core/common_runtime/process_util.cc:146] Creating new thread pool with default inter op setting: 2. Tune using inter_op_parallelism_threads for best performance.\n"
     ]
    }
   ],
   "source": [
    "dimensions=40\n",
    "model=Sequential()\n",
    "model.add(Embedding(voc_size,dimensions,input_length=sent_len))\n",
    "model.add(LSTM(100))\n",
    "model.add(Dense(1,activation='sigmoid'))\n"
   ]
  },
  {
   "cell_type": "code",
   "execution_count": 14,
   "id": "6681b415",
   "metadata": {
    "execution": {
     "iopub.execute_input": "2022-11-21T07:35:41.367835Z",
     "iopub.status.busy": "2022-11-21T07:35:41.367427Z",
     "iopub.status.idle": "2022-11-21T07:35:41.385132Z",
     "shell.execute_reply": "2022-11-21T07:35:41.383346Z"
    },
    "papermill": {
     "duration": 0.027576,
     "end_time": "2022-11-21T07:35:41.387923",
     "exception": false,
     "start_time": "2022-11-21T07:35:41.360347",
     "status": "completed"
    },
    "tags": []
   },
   "outputs": [
    {
     "name": "stdout",
     "output_type": "stream",
     "text": [
      "Model: \"sequential\"\n",
      "_________________________________________________________________\n",
      "Layer (type)                 Output Shape              Param #   \n",
      "=================================================================\n",
      "embedding (Embedding)        (None, 20, 40)            200000    \n",
      "_________________________________________________________________\n",
      "lstm (LSTM)                  (None, 100)               56400     \n",
      "_________________________________________________________________\n",
      "dense (Dense)                (None, 1)                 101       \n",
      "=================================================================\n",
      "Total params: 256,501\n",
      "Trainable params: 256,501\n",
      "Non-trainable params: 0\n",
      "_________________________________________________________________\n"
     ]
    }
   ],
   "source": [
    "model.compile(optimizer='adam',loss='binary_crossentropy',metrics=['accuracy'])\n",
    "model.summary()"
   ]
  },
  {
   "cell_type": "code",
   "execution_count": 15,
   "id": "fa1c1de5",
   "metadata": {
    "execution": {
     "iopub.execute_input": "2022-11-21T07:35:41.401327Z",
     "iopub.status.busy": "2022-11-21T07:35:41.400904Z",
     "iopub.status.idle": "2022-11-21T07:35:41.407506Z",
     "shell.execute_reply": "2022-11-21T07:35:41.406501Z"
    },
    "papermill": {
     "duration": 0.015954,
     "end_time": "2022-11-21T07:35:41.409730",
     "exception": false,
     "start_time": "2022-11-21T07:35:41.393776",
     "status": "completed"
    },
    "tags": []
   },
   "outputs": [],
   "source": [
    "import numpy as np\n",
    "X_final=np.array(embedded_docs)\n",
    "y_final=np.array(y)"
   ]
  },
  {
   "cell_type": "code",
   "execution_count": 16,
   "id": "23e2220a",
   "metadata": {
    "execution": {
     "iopub.execute_input": "2022-11-21T07:35:41.423059Z",
     "iopub.status.busy": "2022-11-21T07:35:41.422648Z",
     "iopub.status.idle": "2022-11-21T07:35:41.431773Z",
     "shell.execute_reply": "2022-11-21T07:35:41.430934Z"
    },
    "papermill": {
     "duration": 0.018325,
     "end_time": "2022-11-21T07:35:41.433986",
     "exception": false,
     "start_time": "2022-11-21T07:35:41.415661",
     "status": "completed"
    },
    "tags": []
   },
   "outputs": [],
   "source": [
    "from sklearn.model_selection import train_test_split\n",
    "X_train, X_test, y_train, y_test = train_test_split(X_final, y_final, test_size=0.33, random_state=42)"
   ]
  },
  {
   "cell_type": "code",
   "execution_count": 17,
   "id": "573466b0",
   "metadata": {
    "execution": {
     "iopub.execute_input": "2022-11-21T07:35:41.447469Z",
     "iopub.status.busy": "2022-11-21T07:35:41.446597Z",
     "iopub.status.idle": "2022-11-21T07:36:41.974036Z",
     "shell.execute_reply": "2022-11-21T07:36:41.973020Z"
    },
    "papermill": {
     "duration": 60.591221,
     "end_time": "2022-11-21T07:36:42.031042",
     "exception": false,
     "start_time": "2022-11-21T07:35:41.439821",
     "status": "completed"
    },
    "tags": []
   },
   "outputs": [
    {
     "name": "stdout",
     "output_type": "stream",
     "text": [
      "Epoch 1/10\n"
     ]
    },
    {
     "name": "stderr",
     "output_type": "stream",
     "text": [
      "2022-11-21 07:35:41.502794: I tensorflow/compiler/mlir/mlir_graph_optimization_pass.cc:185] None of the MLIR Optimization Passes are enabled (registered 2)\n"
     ]
    },
    {
     "name": "stdout",
     "output_type": "stream",
     "text": [
      "192/192 [==============================] - 9s 32ms/step - loss: 0.3339 - accuracy: 0.8428 - val_loss: 0.1922 - val_accuracy: 0.9183\n",
      "Epoch 2/10\n",
      "192/192 [==============================] - 5s 29ms/step - loss: 0.1377 - accuracy: 0.9451 - val_loss: 0.1909 - val_accuracy: 0.9215\n",
      "Epoch 3/10\n",
      "192/192 [==============================] - 6s 32ms/step - loss: 0.0949 - accuracy: 0.9637 - val_loss: 0.2274 - val_accuracy: 0.9200\n",
      "Epoch 4/10\n",
      "192/192 [==============================] - 6s 30ms/step - loss: 0.0684 - accuracy: 0.9761 - val_loss: 0.2285 - val_accuracy: 0.9145\n",
      "Epoch 5/10\n",
      "192/192 [==============================] - 6s 29ms/step - loss: 0.0429 - accuracy: 0.9862 - val_loss: 0.3043 - val_accuracy: 0.9170\n",
      "Epoch 6/10\n",
      "192/192 [==============================] - 6s 29ms/step - loss: 0.0250 - accuracy: 0.9923 - val_loss: 0.4181 - val_accuracy: 0.9167\n",
      "Epoch 7/10\n",
      "192/192 [==============================] - 6s 30ms/step - loss: 0.0165 - accuracy: 0.9949 - val_loss: 0.4409 - val_accuracy: 0.9125\n",
      "Epoch 8/10\n",
      "192/192 [==============================] - 5s 29ms/step - loss: 0.0111 - accuracy: 0.9972 - val_loss: 0.4007 - val_accuracy: 0.9107\n",
      "Epoch 9/10\n",
      "192/192 [==============================] - 6s 32ms/step - loss: 0.0080 - accuracy: 0.9977 - val_loss: 0.5664 - val_accuracy: 0.9117\n",
      "Epoch 10/10\n",
      "192/192 [==============================] - 6s 29ms/step - loss: 0.0046 - accuracy: 0.9989 - val_loss: 0.5832 - val_accuracy: 0.9069\n"
     ]
    },
    {
     "data": {
      "text/plain": [
       "<keras.callbacks.History at 0x7fd7342ba510>"
      ]
     },
     "execution_count": 17,
     "metadata": {},
     "output_type": "execute_result"
    }
   ],
   "source": [
    "### Finally Training\n",
    "model.fit(X_train,y_train,validation_data=(X_test,y_test),epochs=10,batch_size=64)"
   ]
  },
  {
   "cell_type": "code",
   "execution_count": null,
   "id": "a2874301",
   "metadata": {
    "papermill": {
     "duration": 0.057549,
     "end_time": "2022-11-21T07:36:42.146793",
     "exception": false,
     "start_time": "2022-11-21T07:36:42.089244",
     "status": "completed"
    },
    "tags": []
   },
   "outputs": [],
   "source": []
  }
 ],
 "metadata": {
  "kernelspec": {
   "display_name": "Python 3",
   "language": "python",
   "name": "python3"
  },
  "language_info": {
   "codemirror_mode": {
    "name": "ipython",
    "version": 3
   },
   "file_extension": ".py",
   "mimetype": "text/x-python",
   "name": "python",
   "nbconvert_exporter": "python",
   "pygments_lexer": "ipython3",
   "version": "3.7.12"
  },
  "papermill": {
   "default_parameters": {},
   "duration": 122.204954,
   "end_time": "2022-11-21T07:36:44.945237",
   "environment_variables": {},
   "exception": null,
   "input_path": "__notebook__.ipynb",
   "output_path": "__notebook__.ipynb",
   "parameters": {},
   "start_time": "2022-11-21T07:34:42.740283",
   "version": "2.3.4"
  }
 },
 "nbformat": 4,
 "nbformat_minor": 5
}
